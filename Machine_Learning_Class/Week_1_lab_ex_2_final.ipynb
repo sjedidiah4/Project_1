{
 "cells": [
  {
   "attachments": {},
   "cell_type": "markdown",
   "metadata": {},
   "source": [
    "We aim to observe temperature data for Blackford hill Edinburgh to establish if global warming exists as evidenced by the general tendency to increase in temperature"
   ]
  },
  {
   "cell_type": "code",
   "execution_count": 1,
   "metadata": {},
   "outputs": [],
   "source": [
    "#import necessary libraries\n",
    "import pandas as pd\n",
    "import glob\n",
    "from matplotlib import pyplot as plt"
   ]
  },
  {
   "cell_type": "code",
   "execution_count": 2,
   "metadata": {},
   "outputs": [],
   "source": [
    "#Creating a temporary file name holder variable. We are doing this through the glob library\n",
    "path = \"edinburgh_temperatures\"\n",
    "all_csv_files = glob.glob(path + \"/*.csv\") #all_csv_files is now the temporary bucket holding all the file names in that specific folder that meet the specified criteria (in this case, have the .csv ending)"
   ]
  },
  {
   "cell_type": "code",
   "execution_count": 5,
   "metadata": {},
   "outputs": [],
   "source": [
    "#We know that for each file, the first ninety lines and the very last line are useless so we want to get rid of them\n",
    "\n",
    "li = [] # empty list into which we append all our data. Basically, we will extra the table data into a list format then we wil concatenate all these lists using a pandas method back into a dataframe (which is, technically, just a multidemsional array )\n",
    "n = 1\n",
    "for filename in all_csv_files:\n",
    "    df = pd.read_csv(filename, index_col=None, header = 0, skiprows=90)\n",
    "    df.drop(df.tail(n).index,inplace = True)# With this extra line, we expect the number of rows to move from 38950 to 28950-108 since we have 108 csv files, each we are removing the last line. When run, it reduces to 38842 which is exactly what we would want to have\n",
    "    li.append(df) # This stores all the read data into the empty list that we created before\n",
    "\n",
    "df = pd.concat(li, axis = 0, ignore_index=True) #To convert it back to a dataframe, we use the .concat method which is provided for in pandas. It is actually a dataframe datatype. A datatype specific to the pandas library and can only be manipulated using the library's methods. The alternative is to convert them into another format then you can manipulate them differently in the other format.\n"
   ]
  },
  {
   "cell_type": "code",
   "execution_count": 6,
   "metadata": {},
   "outputs": [],
   "source": [
    "#Now to pick just the specific columns that we want to focus on and dropping all the rows that contain NaN data\n",
    "\n",
    "df_2 = df.filter([\"ob_end_time\", \"max_air_temp\", \"min_air_temp\"], axis = 1) # Identifies the selected columns, filters them and pastes them to a new dataframe. What does the axis = 1 mean though?\n",
    "df_2 = df_2.dropna(inplace = False) # deletes all the rows that contain a NaN value. It is important that the inplace is set to False otherwise the next step does not work"
   ]
  },
  {
   "cell_type": "code",
   "execution_count": 7,
   "metadata": {},
   "outputs": [
    {
     "name": "stdout",
     "output_type": "stream",
     "text": [
      "The lowest temperature is: -11.4 degrees celcius which was recorded on: 31392    1982-01-11 09:00:00\n",
      "Name: ob_end_time, dtype: object\n",
      "The highest temperature is: 29.8  degrees celcius which was recorded on: 29041    1975-08-05 09:00:00\n",
      "Name: ob_end_time, dtype: object\n"
     ]
    }
   ],
   "source": [
    "#Now to identify the maximum and minimum air temperature and their respective dates\n",
    "maximum_temperature = df_2[\"max_air_temp\"].max()\n",
    "minimum_temperature = df_2[\"min_air_temp\"].min()\n",
    "\n",
    "print(\"The lowest temperature is:\", minimum_temperature, \"degrees celcius which was recorded on:\", df_2[\"ob_end_time\"].loc[df_2[\"min_air_temp\"] == minimum_temperature])\n",
    "\n",
    "print(\"The highest temperature is:\", maximum_temperature, \" degrees celcius which was recorded on:\", df_2[\"ob_end_time\"].loc[df_2[\"max_air_temp\"] == maximum_temperature])"
   ]
  }
 ],
 "metadata": {
  "kernelspec": {
   "display_name": "Python 3",
   "language": "python",
   "name": "python3"
  },
  "language_info": {
   "codemirror_mode": {
    "name": "ipython",
    "version": 3
   },
   "file_extension": ".py",
   "mimetype": "text/x-python",
   "name": "python",
   "nbconvert_exporter": "python",
   "pygments_lexer": "ipython3",
   "version": "3.10.9"
  },
  "orig_nbformat": 4,
  "vscode": {
   "interpreter": {
    "hash": "3b7e9cb8e453d6cda0fe8c8dd13f891a1f09162f0e7c66ffeae7751a7aecf00d"
   }
  }
 },
 "nbformat": 4,
 "nbformat_minor": 2
}
