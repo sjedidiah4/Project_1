{
 "cells": [
  {
   "cell_type": "code",
   "execution_count": 51,
   "metadata": {},
   "outputs": [],
   "source": [
    "from matplotlib import pyplot as plt\n",
    "import numpy as np\n",
    "import pandas as pd\n",
    "import seaborn as sns\n",
    "\n",
    "plt.rcParams.update(\n",
    "    {\n",
    "        \"lines.markersize\": 10, \n",
    "        \"font.size\": 15, \n",
    "        \"xtick.major.size\": 5,\n",
    "        \"ytick.major.size\": 5,\n",
    "    }\n",
    ")"
   ]
  },
  {
   "cell_type": "code",
   "execution_count": 52,
   "metadata": {},
   "outputs": [
    {
     "name": "stdout",
     "output_type": "stream",
     "text": [
      "8807\n"
     ]
    }
   ],
   "source": [
    "#Then we load the csv data\n",
    "df = pd.read_csv(\"netflix_titles.csv\")\n",
    "print(len(df))"
   ]
  },
  {
   "attachments": {},
   "cell_type": "markdown",
   "metadata": {},
   "source": [
    "The next question is who directed the movie called Layer Cake. This is a question of how to locate a specific row using one of the datapoints within that row. We explored this last week in the notes section"
   ]
  },
  {
   "cell_type": "code",
   "execution_count": 53,
   "metadata": {},
   "outputs": [
    {
     "name": "stdout",
     "output_type": "stream",
     "text": [
      "    show_id   type       title        director  \\\n",
      "891    s892  Movie  Layer Cake  Matthew Vaughn   \n",
      "\n",
      "                                                  cast         country  \\\n",
      "891  Daniel Craig, Colm Meaney, Kenneth Cranham, Si...  United Kingdom   \n",
      "\n",
      "       date_added  release_year rating duration  \\\n",
      "891  May 13, 2021          2004      R  105 min   \n",
      "\n",
      "                                             listed_in  \\\n",
      "891  Independent Movies, International Movies, Thri...   \n",
      "\n",
      "                                           description  \n",
      "891  A suave, steely-eyed London cocaine dealer's r...  \n"
     ]
    }
   ],
   "source": [
    "print(df.loc[df['title'] == 'Layer Cake']) # this identifies the row with something in the title column that matches with layer cake"
   ]
  },
  {
   "cell_type": "code",
   "execution_count": 54,
   "metadata": {},
   "outputs": [
    {
     "name": "stdout",
     "output_type": "stream",
     "text": [
      "891    Matthew Vaughn\n",
      "Name: director, dtype: object\n"
     ]
    }
   ],
   "source": [
    "print(df[\"director\"].loc[df[\"title\"] == 'Layer Cake'])\n",
    "#When printed, this returns Mathew Vaughn\n",
    "#The .loc method and its working. This is used to identify a row in general. \n",
    "# df.loc[df[column_to_look_into] == the_value_to_look_for] - this is the for entire row identification\n",
    "#df[column_data_to_pick_once_filtered].loc[df[column_to_look_into] == the_value_to_look_for] - this is the for entire row identification\n"
   ]
  },
  {
   "cell_type": "code",
   "execution_count": 55,
   "metadata": {},
   "outputs": [
    {
     "name": "stdout",
     "output_type": "stream",
     "text": [
      "891    Matthew Vaughn\n",
      "Name: director, dtype: object\n"
     ]
    }
   ],
   "source": [
    "#Alternative method\n",
    "valid_rows = df[\"title\"].str.contains(\"Layer Cake\") # This is a filter returning false and true (for where it is true)\n",
    "print(df[valid_rows][\"director\"])"
   ]
  },
  {
   "attachments": {},
   "cell_type": "markdown",
   "metadata": {},
   "source": [
    "The next question is about how many seasons there were in Castlevania. This is the same approach as the previous question except we are printing different variables now"
   ]
  },
  {
   "cell_type": "code",
   "execution_count": 56,
   "metadata": {},
   "outputs": [
    {
     "name": "stdout",
     "output_type": "stream",
     "text": [
      "890    4 Seasons\n",
      "Name: duration, dtype: object\n",
      "<class 'pandas.core.series.Series'>\n"
     ]
    }
   ],
   "source": [
    "print(df[\"duration\"].loc[df[\"title\"] == \"Castlevania\"])\n",
    "#When printed, this returns 4 seasons meaning that there were four seasons\n",
    "print(type(df[\"duration\"].loc[df[\"title\"] == \"Castlevania\"])) #when run, return a pandas class. To manipulate this further, we might need to convert it into a string or something"
   ]
  },
  {
   "attachments": {},
   "cell_type": "markdown",
   "metadata": {},
   "source": [
    "Then we are asked about who the lead actor was. It is the same method except we are looking into a different"
   ]
  },
  {
   "cell_type": "code",
   "execution_count": 57,
   "metadata": {},
   "outputs": [
    {
     "name": "stdout",
     "output_type": "stream",
     "text": [
      "890    Richard Armitage, James Callis, Graham McTavis...\n",
      "Name: cast, dtype: object\n"
     ]
    }
   ],
   "source": [
    "print(df[\"cast\"].loc[df[\"title\"] == \"Castlevania\"])\n",
    "#When run, this returns  Richard Armitage, James Callis, Graham McTavis...in which case we assume that Richard Armitage was the lead actor"
   ]
  },
  {
   "attachments": {},
   "cell_type": "markdown",
   "metadata": {},
   "source": [
    "The next question is about how many shows had been created in the UK. There are two approaches for this. We could use the groupby method or we could use the string method that looks into strings that have UK in them. Actually, the method in the previous question would work well for this except now we are going to be printing the length"
   ]
  },
  {
   "cell_type": "code",
   "execution_count": 58,
   "metadata": {},
   "outputs": [
    {
     "name": "stdout",
     "output_type": "stream",
     "text": [
      "419\n"
     ]
    }
   ],
   "source": [
    "print(len(df.loc[df[\"country\"] == \"United Kingdom\"]))\n",
    "#When run, this returns 419 meaning that we have 419 shows based in the UK. However, remember that the dataframe contains NaN values that we are choosing to ignore"
   ]
  },
  {
   "attachments": {},
   "cell_type": "markdown",
   "metadata": {},
   "source": [
    "The next question is to identify which was the longest show on Netflix. For this, we are using the same approach as the previous questions except we are using the .max method. There are two datatypes - TV shows and films. First, we need to narrow this down to films alone then from there, we can compute which one was the longest"
   ]
  },
  {
   "cell_type": "code",
   "execution_count": 59,
   "metadata": {},
   "outputs": [
    {
     "name": "stdout",
     "output_type": "stream",
     "text": [
      "6131\n"
     ]
    }
   ],
   "source": [
    "movies = df.loc[df[\"type\"] == \"Movie\"] # this returns 6131 rows but with the same 12 columns. This dataframe, therefore, contains only movie elements (which in this case, we are considering to be the films)\n",
    "print(len(movies)) "
   ]
  },
  {
   "cell_type": "code",
   "execution_count": 60,
   "metadata": {},
   "outputs": [
    {
     "name": "stdout",
     "output_type": "stream",
     "text": [
      "312.0\n",
      "4253    Black Mirror: Bandersnatch\n",
      "Name: title, dtype: object\n"
     ]
    },
    {
     "name": "stderr",
     "output_type": "stream",
     "text": [
      "C:\\Users\\User\\AppData\\Local\\Temp\\ipykernel_19488\\265024068.py:2: SettingWithCopyWarning: \n",
      "A value is trying to be set on a copy of a slice from a DataFrame.\n",
      "Try using .loc[row_indexer,col_indexer] = value instead\n",
      "\n",
      "See the caveats in the documentation: https://pandas.pydata.org/pandas-docs/stable/user_guide/indexing.html#returning-a-view-versus-a-copy\n",
      "  movies[\"integer_time\"] = movies[\"duration\"].astype('str').str.extractall('(\\d+)').unstack().fillna('').sum(axis=1).astype(int)\n"
     ]
    }
   ],
   "source": [
    "#The next thing is to extract the integer values of the time and append it to a new column\n",
    "movies[\"integer_time\"] = movies[\"duration\"].astype('str').str.extractall('(\\d+)').unstack().fillna('').sum(axis=1).astype(int)\n",
    "#How does this work? We are, first of all, lookint into the 'duration' column. Then we are converting all the data within that set into string (just in case we had some data in a non-string format). Then, we are extracting every integer (by the \\d+) and saving it as an integer. Might need to look into what the other values might mean\n",
    "\n",
    "print(movies[\"integer_time\"].max()) # This returns 312 i.e., 312 minutes for the longest film. Now its just a question of identifying which column this one is in\n",
    "max_time = movies[\"integer_time\"].max()\n",
    "print(movies[\"title\"].loc[movies[\"integer_time\"] == max_time]) # This returns Black Mirror - Bandersnatch\n"
   ]
  },
  {
   "cell_type": "code",
   "execution_count": 61,
   "metadata": {},
   "outputs": [
    {
     "name": "stdout",
     "output_type": "stream",
     "text": [
      "4253    Black Mirror: Bandersnatch\n",
      "Name: title, dtype: object\n"
     ]
    }
   ],
   "source": [
    "#An alternative, more compressed line of code to do the same identification is as shown:\n",
    "print(movies[\"title\"].loc[movies[\"integer_time\"] == movies[\"integer_time\"].max()]) # Returns Black Mirror -Bandersnatch as we expected"
   ]
  },
  {
   "attachments": {},
   "cell_type": "markdown",
   "metadata": {},
   "source": [
    "The next question is about the mean and median number of seasons for the TV shows. This follows the same approach as the previous question in that we will start by filtering TV shows, then convert the number of seasons into integer types then after that, now compute the mean and median using standard pandas models."
   ]
  },
  {
   "cell_type": "code",
   "execution_count": 62,
   "metadata": {},
   "outputs": [
    {
     "name": "stdout",
     "output_type": "stream",
     "text": [
      "2676\n"
     ]
    }
   ],
   "source": [
    "TV_shows = df.loc[df[\"type\"] == \"TV Show\"]\n",
    "print(len(TV_shows)) # When run, this returns 2676 items which is in line with what we expected"
   ]
  },
  {
   "cell_type": "code",
   "execution_count": 63,
   "metadata": {},
   "outputs": [
    {
     "name": "stderr",
     "output_type": "stream",
     "text": [
      "C:\\Users\\User\\AppData\\Local\\Temp\\ipykernel_19488\\685560205.py:2: SettingWithCopyWarning: \n",
      "A value is trying to be set on a copy of a slice from a DataFrame.\n",
      "Try using .loc[row_indexer,col_indexer] = value instead\n",
      "\n",
      "See the caveats in the documentation: https://pandas.pydata.org/pandas-docs/stable/user_guide/indexing.html#returning-a-view-versus-a-copy\n",
      "  TV_shows[\"integer_time\"] = TV_shows[\"duration\"].astype('str').str.extractall('(\\d+)').unstack().fillna('').sum(axis=1).astype(int)\n"
     ]
    },
    {
     "data": {
      "text/html": [
       "<div>\n",
       "<style scoped>\n",
       "    .dataframe tbody tr th:only-of-type {\n",
       "        vertical-align: middle;\n",
       "    }\n",
       "\n",
       "    .dataframe tbody tr th {\n",
       "        vertical-align: top;\n",
       "    }\n",
       "\n",
       "    .dataframe thead th {\n",
       "        text-align: right;\n",
       "    }\n",
       "</style>\n",
       "<table border=\"1\" class=\"dataframe\">\n",
       "  <thead>\n",
       "    <tr style=\"text-align: right;\">\n",
       "      <th></th>\n",
       "      <th>show_id</th>\n",
       "      <th>type</th>\n",
       "      <th>title</th>\n",
       "      <th>director</th>\n",
       "      <th>cast</th>\n",
       "      <th>country</th>\n",
       "      <th>date_added</th>\n",
       "      <th>release_year</th>\n",
       "      <th>rating</th>\n",
       "      <th>duration</th>\n",
       "      <th>listed_in</th>\n",
       "      <th>description</th>\n",
       "      <th>integer_time</th>\n",
       "    </tr>\n",
       "  </thead>\n",
       "  <tbody>\n",
       "    <tr>\n",
       "      <th>1</th>\n",
       "      <td>s2</td>\n",
       "      <td>TV Show</td>\n",
       "      <td>Blood &amp; Water</td>\n",
       "      <td>NaN</td>\n",
       "      <td>Ama Qamata, Khosi Ngema, Gail Mabalane, Thaban...</td>\n",
       "      <td>South Africa</td>\n",
       "      <td>September 24, 2021</td>\n",
       "      <td>2021</td>\n",
       "      <td>TV-MA</td>\n",
       "      <td>2 Seasons</td>\n",
       "      <td>International TV Shows, TV Dramas, TV Mysteries</td>\n",
       "      <td>After crossing paths at a party, a Cape Town t...</td>\n",
       "      <td>2</td>\n",
       "    </tr>\n",
       "    <tr>\n",
       "      <th>2</th>\n",
       "      <td>s3</td>\n",
       "      <td>TV Show</td>\n",
       "      <td>Ganglands</td>\n",
       "      <td>Julien Leclercq</td>\n",
       "      <td>Sami Bouajila, Tracy Gotoas, Samuel Jouy, Nabi...</td>\n",
       "      <td>NaN</td>\n",
       "      <td>September 24, 2021</td>\n",
       "      <td>2021</td>\n",
       "      <td>TV-MA</td>\n",
       "      <td>1 Season</td>\n",
       "      <td>Crime TV Shows, International TV Shows, TV Act...</td>\n",
       "      <td>To protect his family from a powerful drug lor...</td>\n",
       "      <td>1</td>\n",
       "    </tr>\n",
       "    <tr>\n",
       "      <th>3</th>\n",
       "      <td>s4</td>\n",
       "      <td>TV Show</td>\n",
       "      <td>Jailbirds New Orleans</td>\n",
       "      <td>NaN</td>\n",
       "      <td>NaN</td>\n",
       "      <td>NaN</td>\n",
       "      <td>September 24, 2021</td>\n",
       "      <td>2021</td>\n",
       "      <td>TV-MA</td>\n",
       "      <td>1 Season</td>\n",
       "      <td>Docuseries, Reality TV</td>\n",
       "      <td>Feuds, flirtations and toilet talk go down amo...</td>\n",
       "      <td>1</td>\n",
       "    </tr>\n",
       "    <tr>\n",
       "      <th>4</th>\n",
       "      <td>s5</td>\n",
       "      <td>TV Show</td>\n",
       "      <td>Kota Factory</td>\n",
       "      <td>NaN</td>\n",
       "      <td>Mayur More, Jitendra Kumar, Ranjan Raj, Alam K...</td>\n",
       "      <td>India</td>\n",
       "      <td>September 24, 2021</td>\n",
       "      <td>2021</td>\n",
       "      <td>TV-MA</td>\n",
       "      <td>2 Seasons</td>\n",
       "      <td>International TV Shows, Romantic TV Shows, TV ...</td>\n",
       "      <td>In a city of coaching centers known to train I...</td>\n",
       "      <td>2</td>\n",
       "    </tr>\n",
       "    <tr>\n",
       "      <th>5</th>\n",
       "      <td>s6</td>\n",
       "      <td>TV Show</td>\n",
       "      <td>Midnight Mass</td>\n",
       "      <td>Mike Flanagan</td>\n",
       "      <td>Kate Siegel, Zach Gilford, Hamish Linklater, H...</td>\n",
       "      <td>NaN</td>\n",
       "      <td>September 24, 2021</td>\n",
       "      <td>2021</td>\n",
       "      <td>TV-MA</td>\n",
       "      <td>1 Season</td>\n",
       "      <td>TV Dramas, TV Horror, TV Mysteries</td>\n",
       "      <td>The arrival of a charismatic young priest brin...</td>\n",
       "      <td>1</td>\n",
       "    </tr>\n",
       "    <tr>\n",
       "      <th>...</th>\n",
       "      <td>...</td>\n",
       "      <td>...</td>\n",
       "      <td>...</td>\n",
       "      <td>...</td>\n",
       "      <td>...</td>\n",
       "      <td>...</td>\n",
       "      <td>...</td>\n",
       "      <td>...</td>\n",
       "      <td>...</td>\n",
       "      <td>...</td>\n",
       "      <td>...</td>\n",
       "      <td>...</td>\n",
       "      <td>...</td>\n",
       "    </tr>\n",
       "    <tr>\n",
       "      <th>8795</th>\n",
       "      <td>s8796</td>\n",
       "      <td>TV Show</td>\n",
       "      <td>Yu-Gi-Oh! Arc-V</td>\n",
       "      <td>NaN</td>\n",
       "      <td>Mike Liscio, Emily Bauer, Billy Bob Thompson, ...</td>\n",
       "      <td>Japan, Canada</td>\n",
       "      <td>May 1, 2018</td>\n",
       "      <td>2015</td>\n",
       "      <td>TV-Y7</td>\n",
       "      <td>2 Seasons</td>\n",
       "      <td>Anime Series, Kids' TV</td>\n",
       "      <td>Now that he's discovered the Pendulum Summonin...</td>\n",
       "      <td>2</td>\n",
       "    </tr>\n",
       "    <tr>\n",
       "      <th>8796</th>\n",
       "      <td>s8797</td>\n",
       "      <td>TV Show</td>\n",
       "      <td>Yunus Emre</td>\n",
       "      <td>NaN</td>\n",
       "      <td>Gökhan Atalay, Payidar Tüfekçioglu, Baran Akbu...</td>\n",
       "      <td>Turkey</td>\n",
       "      <td>January 17, 2017</td>\n",
       "      <td>2016</td>\n",
       "      <td>TV-PG</td>\n",
       "      <td>2 Seasons</td>\n",
       "      <td>International TV Shows, TV Dramas</td>\n",
       "      <td>During the Mongol invasions, Yunus Emre leaves...</td>\n",
       "      <td>2</td>\n",
       "    </tr>\n",
       "    <tr>\n",
       "      <th>8797</th>\n",
       "      <td>s8798</td>\n",
       "      <td>TV Show</td>\n",
       "      <td>Zak Storm</td>\n",
       "      <td>NaN</td>\n",
       "      <td>Michael Johnston, Jessica Gee-George, Christin...</td>\n",
       "      <td>United States, France, South Korea, Indonesia</td>\n",
       "      <td>September 13, 2018</td>\n",
       "      <td>2016</td>\n",
       "      <td>TV-Y7</td>\n",
       "      <td>3 Seasons</td>\n",
       "      <td>Kids' TV</td>\n",
       "      <td>Teen surfer Zak Storm is mysteriously transpor...</td>\n",
       "      <td>3</td>\n",
       "    </tr>\n",
       "    <tr>\n",
       "      <th>8800</th>\n",
       "      <td>s8801</td>\n",
       "      <td>TV Show</td>\n",
       "      <td>Zindagi Gulzar Hai</td>\n",
       "      <td>NaN</td>\n",
       "      <td>Sanam Saeed, Fawad Khan, Ayesha Omer, Mehreen ...</td>\n",
       "      <td>Pakistan</td>\n",
       "      <td>December 15, 2016</td>\n",
       "      <td>2012</td>\n",
       "      <td>TV-PG</td>\n",
       "      <td>1 Season</td>\n",
       "      <td>International TV Shows, Romantic TV Shows, TV ...</td>\n",
       "      <td>Strong-willed, middle-class Kashaf and carefre...</td>\n",
       "      <td>1</td>\n",
       "    </tr>\n",
       "    <tr>\n",
       "      <th>8803</th>\n",
       "      <td>s8804</td>\n",
       "      <td>TV Show</td>\n",
       "      <td>Zombie Dumb</td>\n",
       "      <td>NaN</td>\n",
       "      <td>NaN</td>\n",
       "      <td>NaN</td>\n",
       "      <td>July 1, 2019</td>\n",
       "      <td>2018</td>\n",
       "      <td>TV-Y7</td>\n",
       "      <td>2 Seasons</td>\n",
       "      <td>Kids' TV, Korean TV Shows, TV Comedies</td>\n",
       "      <td>While living alone in a spooky town, a young g...</td>\n",
       "      <td>2</td>\n",
       "    </tr>\n",
       "  </tbody>\n",
       "</table>\n",
       "<p>2676 rows × 13 columns</p>\n",
       "</div>"
      ],
      "text/plain": [
       "     show_id     type                  title         director  \\\n",
       "1         s2  TV Show          Blood & Water              NaN   \n",
       "2         s3  TV Show              Ganglands  Julien Leclercq   \n",
       "3         s4  TV Show  Jailbirds New Orleans              NaN   \n",
       "4         s5  TV Show           Kota Factory              NaN   \n",
       "5         s6  TV Show          Midnight Mass    Mike Flanagan   \n",
       "...      ...      ...                    ...              ...   \n",
       "8795   s8796  TV Show        Yu-Gi-Oh! Arc-V              NaN   \n",
       "8796   s8797  TV Show             Yunus Emre              NaN   \n",
       "8797   s8798  TV Show              Zak Storm              NaN   \n",
       "8800   s8801  TV Show     Zindagi Gulzar Hai              NaN   \n",
       "8803   s8804  TV Show            Zombie Dumb              NaN   \n",
       "\n",
       "                                                   cast  \\\n",
       "1     Ama Qamata, Khosi Ngema, Gail Mabalane, Thaban...   \n",
       "2     Sami Bouajila, Tracy Gotoas, Samuel Jouy, Nabi...   \n",
       "3                                                   NaN   \n",
       "4     Mayur More, Jitendra Kumar, Ranjan Raj, Alam K...   \n",
       "5     Kate Siegel, Zach Gilford, Hamish Linklater, H...   \n",
       "...                                                 ...   \n",
       "8795  Mike Liscio, Emily Bauer, Billy Bob Thompson, ...   \n",
       "8796  Gökhan Atalay, Payidar Tüfekçioglu, Baran Akbu...   \n",
       "8797  Michael Johnston, Jessica Gee-George, Christin...   \n",
       "8800  Sanam Saeed, Fawad Khan, Ayesha Omer, Mehreen ...   \n",
       "8803                                                NaN   \n",
       "\n",
       "                                            country          date_added  \\\n",
       "1                                      South Africa  September 24, 2021   \n",
       "2                                               NaN  September 24, 2021   \n",
       "3                                               NaN  September 24, 2021   \n",
       "4                                             India  September 24, 2021   \n",
       "5                                               NaN  September 24, 2021   \n",
       "...                                             ...                 ...   \n",
       "8795                                  Japan, Canada         May 1, 2018   \n",
       "8796                                         Turkey    January 17, 2017   \n",
       "8797  United States, France, South Korea, Indonesia  September 13, 2018   \n",
       "8800                                       Pakistan   December 15, 2016   \n",
       "8803                                            NaN        July 1, 2019   \n",
       "\n",
       "      release_year rating   duration  \\\n",
       "1             2021  TV-MA  2 Seasons   \n",
       "2             2021  TV-MA   1 Season   \n",
       "3             2021  TV-MA   1 Season   \n",
       "4             2021  TV-MA  2 Seasons   \n",
       "5             2021  TV-MA   1 Season   \n",
       "...            ...    ...        ...   \n",
       "8795          2015  TV-Y7  2 Seasons   \n",
       "8796          2016  TV-PG  2 Seasons   \n",
       "8797          2016  TV-Y7  3 Seasons   \n",
       "8800          2012  TV-PG   1 Season   \n",
       "8803          2018  TV-Y7  2 Seasons   \n",
       "\n",
       "                                              listed_in  \\\n",
       "1       International TV Shows, TV Dramas, TV Mysteries   \n",
       "2     Crime TV Shows, International TV Shows, TV Act...   \n",
       "3                                Docuseries, Reality TV   \n",
       "4     International TV Shows, Romantic TV Shows, TV ...   \n",
       "5                    TV Dramas, TV Horror, TV Mysteries   \n",
       "...                                                 ...   \n",
       "8795                             Anime Series, Kids' TV   \n",
       "8796                  International TV Shows, TV Dramas   \n",
       "8797                                           Kids' TV   \n",
       "8800  International TV Shows, Romantic TV Shows, TV ...   \n",
       "8803             Kids' TV, Korean TV Shows, TV Comedies   \n",
       "\n",
       "                                            description  integer_time  \n",
       "1     After crossing paths at a party, a Cape Town t...             2  \n",
       "2     To protect his family from a powerful drug lor...             1  \n",
       "3     Feuds, flirtations and toilet talk go down amo...             1  \n",
       "4     In a city of coaching centers known to train I...             2  \n",
       "5     The arrival of a charismatic young priest brin...             1  \n",
       "...                                                 ...           ...  \n",
       "8795  Now that he's discovered the Pendulum Summonin...             2  \n",
       "8796  During the Mongol invasions, Yunus Emre leaves...             2  \n",
       "8797  Teen surfer Zak Storm is mysteriously transpor...             3  \n",
       "8800  Strong-willed, middle-class Kashaf and carefre...             1  \n",
       "8803  While living alone in a spooky town, a young g...             2  \n",
       "\n",
       "[2676 rows x 13 columns]"
      ]
     },
     "execution_count": 63,
     "metadata": {},
     "output_type": "execute_result"
    }
   ],
   "source": [
    "#Next step is to extract the duration row and save it as an integer\n",
    "TV_shows[\"integer_time\"] = TV_shows[\"duration\"].astype('str').str.extractall('(\\d+)').unstack().fillna('').sum(axis=1).astype(int)\n",
    "TV_shows"
   ]
  },
  {
   "cell_type": "code",
   "execution_count": 64,
   "metadata": {},
   "outputs": [
    {
     "name": "stdout",
     "output_type": "stream",
     "text": [
      "The mean for the TV shows seasons is 1.764947683109118 seasons\n",
      "The median for the TV shows is 1.0 seasons\n"
     ]
    }
   ],
   "source": [
    "#Now we need to calculate the mean and median time\n",
    "print(f\"The mean for the TV shows seasons is {TV_shows['integer_time'].mean()} seasons\") # this returns 1.764947683109118 seasons\n",
    "print(f\"The median for the TV shows is {TV_shows['integer_time'].median()} seasons\") #This returns 1.0"
   ]
  },
  {
   "attachments": {},
   "cell_type": "markdown",
   "metadata": {},
   "source": [
    "The next question is of the person who has been in the most movies. For this, we can use the mode() approach. It works on both integers and strings so no need to convert"
   ]
  },
  {
   "cell_type": "code",
   "execution_count": 65,
   "metadata": {},
   "outputs": [
    {
     "name": "stdout",
     "output_type": "stream",
     "text": [
      "The most cast character is:0    David Attenborough\n",
      "Name: cast, dtype: object\n"
     ]
    }
   ],
   "source": [
    "#Since it is a question about shows, we are still using the TV shows dataframe\n",
    "print(f\"The most cast character is:{TV_shows['cast'].mode()}\") # When run, this returns David Attenborough. How many shows has he been in? To find that out, we might need to set the filter"
   ]
  },
  {
   "cell_type": "code",
   "execution_count": 66,
   "metadata": {},
   "outputs": [
    {
     "name": "stdout",
     "output_type": "stream",
     "text": [
      "19\n"
     ]
    }
   ],
   "source": [
    "Attenborough_shows = df.loc[df[\"cast\"] == \"David Attenborough\"]\n",
    "print(len(Attenborough_shows)) # this returns 19 which means that in total, he has been in 19 TV shows. True? Hopefully"
   ]
  },
  {
   "cell_type": "code",
   "execution_count": 1,
   "metadata": {},
   "outputs": [
    {
     "ename": "NameError",
     "evalue": "name 'df' is not defined",
     "output_type": "error",
     "traceback": [
      "\u001b[1;31m---------------------------------------------------------------------------\u001b[0m",
      "\u001b[1;31mNameError\u001b[0m                                 Traceback (most recent call last)",
      "Cell \u001b[1;32mIn[1], line 4\u001b[0m\n\u001b[0;32m      2\u001b[0m \u001b[39mimport\u001b[39;00m \u001b[39mnumpy\u001b[39;00m \u001b[39mas\u001b[39;00m \u001b[39mnp\u001b[39;00m\n\u001b[0;32m      3\u001b[0m \u001b[39mfrom\u001b[39;00m \u001b[39mcollections\u001b[39;00m \u001b[39mimport\u001b[39;00m Counter\n\u001b[1;32m----> 4\u001b[0m df_cast \u001b[39m=\u001b[39m df\u001b[39m.\u001b[39mdropna(subset \u001b[39m=\u001b[39m [\u001b[39m\"\u001b[39m\u001b[39mcast\u001b[39m\u001b[39m\"\u001b[39m]) \u001b[39m# This looks into the cast column and drops all the NaN values. This removes the entire row\u001b[39;00m\n\u001b[0;32m      5\u001b[0m \u001b[39mprint\u001b[39m(\u001b[39mlen\u001b[39m(df_cast)) \u001b[39m# This returns 7892\u001b[39;00m\n\u001b[0;32m      7\u001b[0m all_cast \u001b[39m=\u001b[39m df_cast[\u001b[39m\"\u001b[39m\u001b[39mcast\u001b[39m\u001b[39m\"\u001b[39m]\u001b[39m.\u001b[39mstr\u001b[39m.\u001b[39msplit(\u001b[39m\"\u001b[39m\u001b[39m,\u001b[39m\u001b[39m\"\u001b[39m)\u001b[39m.\u001b[39mto_list() \u001b[39m#to_numpy converts to numpy array type. The .flatten reduces all the list of cast \u001b[39;00m\n",
      "\u001b[1;31mNameError\u001b[0m: name 'df' is not defined"
     ]
    }
   ],
   "source": [
    "#Alternative method. This is actually the right method.\n",
    "import numpy as np\n",
    "from collections import Counter\n",
    "df_cast = df.dropna(subset = [\"cast\"]) # This looks into the cast column and drops all the NaN values. This removes the entire row\n",
    "print(len(df_cast)) # This returns 7892\n",
    "\n",
    "all_cast = df_cast[\"cast\"].str.split(\",\").to_list() #to_numpy converts to numpy array type. The .flatten reduces all the list of cast \n",
    "all_cast = [item for sublist in all_cast for item in sublist] #this flattens it. \n",
    "print(len(all_cast))\n",
    "c = Counter(all_cast)\n",
    "print(c.most_common(1)) #This prints the 2 most common. Readjusted this to 1 to show the most repeated\n",
    "#[(' Anupam Kher', 39), (' Rupa Bhimani', 31)] This is what it returns. The number is right but it should return 43 for the number of times.\n",
    "\n",
    "#Later on, try do the for loop approach"
   ]
  },
  {
   "attachments": {},
   "cell_type": "markdown",
   "metadata": {},
   "source": [
    "For the next section, we are now moving into data visualisation. We have already imported all the libraries so it is just to implement them now"
   ]
  },
  {
   "attachments": {},
   "cell_type": "markdown",
   "metadata": {},
   "source": [
    "The first question is the barplot showing the different shows and their ratings. Basically, it is a question of how many shows are rated PG-13? How many shows are rated TV-MA? For this, we can use the groupby, I think"
   ]
  },
  {
   "cell_type": "code",
   "execution_count": 68,
   "metadata": {},
   "outputs": [
    {
     "name": "stdout",
     "output_type": "stream",
     "text": [
      "0          NR\n",
      "1           R\n",
      "2       TV-14\n",
      "3        TV-G\n",
      "4       TV-MA\n",
      "5       TV-PG\n",
      "6        TV-Y\n",
      "7       TV-Y7\n",
      "8    TV-Y7-FV\n",
      "Name: rating, dtype: object\n",
      "0       5\n",
      "1       2\n",
      "2     733\n",
      "3      94\n",
      "4    1145\n",
      "5     323\n",
      "6     176\n",
      "7     195\n",
      "8       1\n",
      "Name: size, dtype: int64\n"
     ]
    }
   ],
   "source": [
    "ratings = TV_shows.groupby(['rating'], as_index = False).size() #as_index = False says that we don't have an index from the data so the program creates one for us instead. With this, we are able to access the data as a standard dataframe\n",
    "#Note that the alternative would be to use the .value_sum() instead of .size()\n",
    "print(ratings[\"rating\"]) # returns a print of the ratings column\n",
    "print(ratings[\"size\"]) #Returns a list of the sum column"
   ]
  },
  {
   "cell_type": "code",
   "execution_count": 69,
   "metadata": {},
   "outputs": [
    {
     "name": "stdout",
     "output_type": "stream",
     "text": [
      "8807\n"
     ]
    },
    {
     "name": "stderr",
     "output_type": "stream",
     "text": [
      "C:\\Users\\User\\AppData\\Local\\Temp\\ipykernel_19488\\935388628.py:12: UserWarning: FixedFormatter should only be used together with FixedLocator\n",
      "  ax.set_xticklabels(ratings[\"rating\"], rotation=30, ha='center')\n"
     ]
    },
    {
     "data": {
      "image/png": "[encoded data removed]",
      "text/plain": [
       "<Figure size 800x800 with 1 Axes>"
      ]
     },
     "metadata": {},
     "output_type": "display_data"
    }
   ],
   "source": [
    "#The next step is to now produce the bar plot\n",
    "plt.rcParams.update(\n",
    "    {\n",
    "        \"lines.markersize\": 10,\n",
    "        \"font.size\": 5,\n",
    "        \"xtick.major.size\": 5,\n",
    "        \"ytick.major.size\": 5,\n",
    "    }\n",
    ")\n",
    "fig, ax = plt.subplots(figsize = (8,8))\n",
    "ax.bar(ratings[\"rating\"], ratings[\"size\"])\n",
    "ax.set_xticklabels(ratings[\"rating\"], rotation=30, ha='center')\n",
    "ax.grid()\n",
    "ax.set_xlabel(\"Different show ratings\")\n",
    "ax.set_ylabel(\"The number of shows in each rating category\")\n",
    "ax.set_title(\"Graph showing the number of shows with their respective rating\")\n",
    "print(len(df))"
   ]
  },
  {
   "cell_type": "code",
   "execution_count": 70,
   "metadata": {},
   "outputs": [
    {
     "name": "stdout",
     "output_type": "stream",
     "text": [
      "<class 'pandas.core.series.Series'>\n",
      "8807\n"
     ]
    },
    {
     "name": "stderr",
     "output_type": "stream",
     "text": [
      "C:\\Users\\User\\AppData\\Local\\Temp\\ipykernel_19488\\1668166500.py:18: UserWarning: FixedFormatter should only be used together with FixedLocator\n",
      "  ax.set_xticklabels(x_variables, rotation=30, ha='center')\n"
     ]
    },
    {
     "data": {
      "image/png": "[encoded data removed]",
      "text/plain": [
       "<Figure size 800x800 with 1 Axes>"
      ]
     },
     "metadata": {},
     "output_type": "display_data"
    }
   ],
   "source": [
    "#Alternative method\n",
    "grouped_ratings = TV_shows[\"rating\"].value_counts()\n",
    "print(type(grouped_ratings))\n",
    "x_variables = grouped_ratings.index.to_list() #picks the index column\n",
    "y_variables = grouped_ratings\n",
    "\n",
    "#The next step is to now produce the bar plot\n",
    "plt.rcParams.update(\n",
    "    {\n",
    "        \"lines.markersize\": 10,\n",
    "        \"font.size\": 5,\n",
    "        \"xtick.major.size\": 5,\n",
    "        \"ytick.major.size\": 5,\n",
    "    }\n",
    ")\n",
    "fig, ax = plt.subplots(figsize = (8,8))\n",
    "ax.bar(x_variables, y_variables)\n",
    "ax.set_xticklabels(x_variables, rotation=30, ha='center')\n",
    "ax.grid()\n",
    "ax.set_xlabel(\"Different show ratings\")\n",
    "ax.set_ylabel(\"The number of shows in each rating category\")\n",
    "ax.set_title(\"Graph showing the number of shows with their respective rating\")\n",
    "print(len(df))"
   ]
  },
  {
   "attachments": {},
   "cell_type": "markdown",
   "metadata": {},
   "source": [
    "In this next one, our task is to produce a histogram of the release dates"
   ]
  },
  {
   "cell_type": "code",
   "execution_count": 71,
   "metadata": {},
   "outputs": [
    {
     "name": "stdout",
     "output_type": "stream",
     "text": [
      "2021\n",
      "1925\n",
      "2\n"
     ]
    },
    {
     "data": {
      "text/plain": [
       "Text(0.5, 1.0, 'Histogram for movie release dates')"
      ]
     },
     "execution_count": 71,
     "metadata": {},
     "output_type": "execute_result"
    },
    {
     "data": {
      "image/png": "[encoded data removed]",
      "text/plain": [
       "<Figure size 640x480 with 1 Axes>"
      ]
     },
     "metadata": {},
     "output_type": "display_data"
    }
   ],
   "source": [
    "max_year = df[\"release_year\"].max()\n",
    "min_year = df[\"release_year\"].min()\n",
    "print(max_year)\n",
    "print(min_year)\n",
    "half_decade = 50\n",
    "bin_number = len(range(min_year, max_year, half_decade))\n",
    "print(bin_number) # this results in a bin number of 2\n",
    "fig, ax = plt.subplots()\n",
    "ax.hist(df[\"release_year\"], bins = bin_number)\n",
    "ax.set_xlabel(\"Release date\")\n",
    "ax.set_ylabel(\"Frequencies\")\n",
    "ax.set_title(\"Histogram for movie release dates\")"
   ]
  },
  {
   "attachments": {},
   "cell_type": "markdown",
   "metadata": {},
   "source": [
    "Here, our task it to plot a line graph of the number of films released each year from 1990 to 2021. Our maximum is 2021 so we only need one filter - that one for 1990. My approach will be to implement the filter on the dataframe then proceed with the plotting"
   ]
  },
  {
   "cell_type": "code",
   "execution_count": 72,
   "metadata": {},
   "outputs": [
    {
     "name": "stdout",
     "output_type": "stream",
     "text": [
      "      type  size\n",
      "0    Movie  6131\n",
      "1  TV Show  2676\n",
      "6131\n",
      "5896\n",
      "1990\n"
     ]
    }
   ],
   "source": [
    "types = df.groupby(['type'], as_index = False).size()\n",
    "print(types) #This returns only two types - Movies and TV shows\n",
    "filtered_movies = movies.loc[movies[\"release_year\"]>=1990]\n",
    "print(len(movies)) # This returns 6131\n",
    "print(len(filtered_movies))#This returns 5896 to show that there has actually been a filtration process. To confirm, we can check what the new least year is\n",
    "print(filtered_movies[\"release_year\"].min()) # This returns 1990 which is what we expected"
   ]
  },
  {
   "cell_type": "code",
   "execution_count": 73,
   "metadata": {},
   "outputs": [
    {
     "name": "stdout",
     "output_type": "stream",
     "text": [
      "0\n"
     ]
    }
   ],
   "source": [
    "#The next step is to now generate the graph. We havent checked if there are any missing values yet. For this, we can use the isna method then compute the sum (as we did in the previous question)\n",
    "\n",
    "print(filtered_movies[\"release_year\"].isna().sum()) # This returns a 0 meaning that all the values are present hence no need to drop or add anything\n",
    "#So now, we proceed to the plot"
   ]
  },
  {
   "cell_type": "code",
   "execution_count": 74,
   "metadata": {},
   "outputs": [
    {
     "data": {
      "text/html": [
       "<div>\n",
       "<style scoped>\n",
       "    .dataframe tbody tr th:only-of-type {\n",
       "        vertical-align: middle;\n",
       "    }\n",
       "\n",
       "    .dataframe tbody tr th {\n",
       "        vertical-align: top;\n",
       "    }\n",
       "\n",
       "    .dataframe thead th {\n",
       "        text-align: right;\n",
       "    }\n",
       "</style>\n",
       "<table border=\"1\" class=\"dataframe\">\n",
       "  <thead>\n",
       "    <tr style=\"text-align: right;\">\n",
       "      <th></th>\n",
       "      <th>release_year</th>\n",
       "      <th>size</th>\n",
       "    </tr>\n",
       "  </thead>\n",
       "  <tbody>\n",
       "    <tr>\n",
       "      <th>0</th>\n",
       "      <td>1942</td>\n",
       "      <td>2</td>\n",
       "    </tr>\n",
       "    <tr>\n",
       "      <th>1</th>\n",
       "      <td>1943</td>\n",
       "      <td>3</td>\n",
       "    </tr>\n",
       "    <tr>\n",
       "      <th>2</th>\n",
       "      <td>1944</td>\n",
       "      <td>3</td>\n",
       "    </tr>\n",
       "    <tr>\n",
       "      <th>3</th>\n",
       "      <td>1945</td>\n",
       "      <td>3</td>\n",
       "    </tr>\n",
       "    <tr>\n",
       "      <th>4</th>\n",
       "      <td>1946</td>\n",
       "      <td>1</td>\n",
       "    </tr>\n",
       "    <tr>\n",
       "      <th>...</th>\n",
       "      <td>...</td>\n",
       "      <td>...</td>\n",
       "    </tr>\n",
       "    <tr>\n",
       "      <th>68</th>\n",
       "      <td>2017</td>\n",
       "      <td>767</td>\n",
       "    </tr>\n",
       "    <tr>\n",
       "      <th>69</th>\n",
       "      <td>2018</td>\n",
       "      <td>767</td>\n",
       "    </tr>\n",
       "    <tr>\n",
       "      <th>70</th>\n",
       "      <td>2019</td>\n",
       "      <td>633</td>\n",
       "    </tr>\n",
       "    <tr>\n",
       "      <th>71</th>\n",
       "      <td>2020</td>\n",
       "      <td>517</td>\n",
       "    </tr>\n",
       "    <tr>\n",
       "      <th>72</th>\n",
       "      <td>2021</td>\n",
       "      <td>277</td>\n",
       "    </tr>\n",
       "  </tbody>\n",
       "</table>\n",
       "<p>73 rows × 2 columns</p>\n",
       "</div>"
      ],
      "text/plain": [
       "    release_year  size\n",
       "0           1942     2\n",
       "1           1943     3\n",
       "2           1944     3\n",
       "3           1945     3\n",
       "4           1946     1\n",
       "..           ...   ...\n",
       "68          2017   767\n",
       "69          2018   767\n",
       "70          2019   633\n",
       "71          2020   517\n",
       "72          2021   277\n",
       "\n",
       "[73 rows x 2 columns]"
      ]
     },
     "execution_count": 74,
     "metadata": {},
     "output_type": "execute_result"
    }
   ],
   "source": [
    "release_years = movies.groupby([\"release_year\"], as_index = False).size()\n",
    "release_years # this returns a dataframe that contains the index column, the first column (called release_year) and the second column called size (which has the total number of movies released in that year)"
   ]
  },
  {
   "cell_type": "code",
   "execution_count": 75,
   "metadata": {},
   "outputs": [
    {
     "data": {
      "image/png": "[encoded data removed]",
      "text/plain": [
       "<Figure size 800x600 with 1 Axes>"
      ]
     },
     "metadata": {},
     "output_type": "display_data"
    }
   ],
   "source": [
    "#The next step is to now plot the data in a line graph\n",
    "fig, ax = plt.subplots(figsize = (8,6))\n",
    "ax.plot(release_years[\"release_year\"], release_years[\"size\"])\n",
    "ax.set_xlabel(\"Years (from 1990 to 2021\")\n",
    "ax.set_ylabel(\"Number of movies released\")\n",
    "ax.set_title(\"Line graph showing number of movies released each year from 1990 to 2021\")\n",
    "ax.grid() # This is to set the grid to turn on with the object oriented approach\n",
    "\n",
    "#Source: https://matplotlib.org/matplotblog/posts/pyplot-vs-object-oriented-interface/"
   ]
  },
  {
   "attachments": {},
   "cell_type": "markdown",
   "metadata": {},
   "source": [
    "Now we are generating a scatterplot for the film duration compared to the year during which the film was released. This is aimed at helpin us understand if there is any correlation between the passage of time and the length of movies"
   ]
  },
  {
   "cell_type": "code",
   "execution_count": 76,
   "metadata": {},
   "outputs": [
    {
     "name": "stdout",
     "output_type": "stream",
     "text": [
      "3\n",
      "0\n",
      "0\n"
     ]
    }
   ],
   "source": [
    "#We already have the data but it is always worthwhile to check and ensure that there is nothing missing.\n",
    "print(movies[\"integer_time\"].isna().sum()) # This returns 3 which means that there are three missing datapoints.\n",
    "print(movies[\"release_year\"].isna().sum()) # This returns 0 which means that nothing is missing.\n",
    "#Now we will consider dropping the rows in which the data is missing\n",
    "movies_integer_time = movies.dropna()\n",
    "print(movies_integer_time[\"integer_time\"].isna().sum()) # Now this returns 0 to mean that all the NaN values have been dropped."
   ]
  },
  {
   "cell_type": "code",
   "execution_count": 77,
   "metadata": {},
   "outputs": [
    {
     "data": {
      "text/plain": [
       "Text(0.5, 1.0, 'Scatterplot showing the relationship between movie duration and its release year')"
      ]
     },
     "execution_count": 77,
     "metadata": {},
     "output_type": "execute_result"
    },
    {
     "data": {
      "image/png": "[encoded data removed]",
      "text/plain": [
       "<Figure size 800x600 with 1 Axes>"
      ]
     },
     "metadata": {},
     "output_type": "display_data"
    }
   ],
   "source": [
    "#Now, we proceed to the plots\n",
    "fig, ax = plt.subplots(figsize = (8,6))\n",
    "ax.scatter(movies_integer_time[\"release_year\"], movies_integer_time[\"integer_time\"])\n",
    "ax.set_xlabel(\"Release year\")\n",
    "ax.set_ylabel(\"Movie length\")\n",
    "ax.set_title(\"Scatterplot showing the relationship between movie duration and its release year\")"
   ]
  },
  {
   "cell_type": "code",
   "execution_count": 78,
   "metadata": {},
   "outputs": [
    {
     "name": "stderr",
     "output_type": "stream",
     "text": [
      "C:\\Users\\User\\AppData\\Local\\Temp\\ipykernel_19488\\3000988799.py:2: FutureWarning: The default value of numeric_only in DataFrame.corr is deprecated. In a future version, it will default to False. Select only valid columns or specify the value of numeric_only to silence this warning.\n",
      "  movies_integer_time.corr()\n"
     ]
    },
    {
     "data": {
      "text/html": [
       "<div>\n",
       "<style scoped>\n",
       "    .dataframe tbody tr th:only-of-type {\n",
       "        vertical-align: middle;\n",
       "    }\n",
       "\n",
       "    .dataframe tbody tr th {\n",
       "        vertical-align: top;\n",
       "    }\n",
       "\n",
       "    .dataframe thead th {\n",
       "        text-align: right;\n",
       "    }\n",
       "</style>\n",
       "<table border=\"1\" class=\"dataframe\">\n",
       "  <thead>\n",
       "    <tr style=\"text-align: right;\">\n",
       "      <th></th>\n",
       "      <th>release_year</th>\n",
       "      <th>integer_time</th>\n",
       "    </tr>\n",
       "  </thead>\n",
       "  <tbody>\n",
       "    <tr>\n",
       "      <th>release_year</th>\n",
       "      <td>1.000000</td>\n",
       "      <td>-0.212642</td>\n",
       "    </tr>\n",
       "    <tr>\n",
       "      <th>integer_time</th>\n",
       "      <td>-0.212642</td>\n",
       "      <td>1.000000</td>\n",
       "    </tr>\n",
       "  </tbody>\n",
       "</table>\n",
       "</div>"
      ],
      "text/plain": [
       "              release_year  integer_time\n",
       "release_year      1.000000     -0.212642\n",
       "integer_time     -0.212642      1.000000"
      ]
     },
     "execution_count": 78,
     "metadata": {},
     "output_type": "execute_result"
    }
   ],
   "source": [
    "#Then finally, we try to establish if there is any relationship using the Pearson correlation coefficient. This is best done using the pandas library\n",
    "movies_integer_time.corr()\n",
    "#This returns a 2 by 2 table\n",
    "# \t           release_year\tinteger_time\n",
    "# release_year\t1.000000\t-0.212642\n",
    "# integer_time\t-0.212642\t1.000000\n",
    "#We observe a -0.21 correlation. The -ve shows that as one variable went up (the years), the movie duration went lower. But the correlation index is 0.21 which is quite a weak index hence indicating that there is no correlation between the movie duration and the years in which they are produced"
   ]
  },
  {
   "attachments": {},
   "cell_type": "markdown",
   "metadata": {},
   "source": [
    "For this last one, our task is to produce a heatmap that shows the different genres that show up on Netflix.\n",
    "I think the first thing we need to do is the group by so that we get the numbers set then we can proceed with the plot\n"
   ]
  },
  {
   "cell_type": "code",
   "execution_count": 79,
   "metadata": {},
   "outputs": [
    {
     "data": {
      "text/html": [
       "<div>\n",
       "<style scoped>\n",
       "    .dataframe tbody tr th:only-of-type {\n",
       "        vertical-align: middle;\n",
       "    }\n",
       "\n",
       "    .dataframe tbody tr th {\n",
       "        vertical-align: top;\n",
       "    }\n",
       "\n",
       "    .dataframe thead th {\n",
       "        text-align: right;\n",
       "    }\n",
       "</style>\n",
       "<table border=\"1\" class=\"dataframe\">\n",
       "  <thead>\n",
       "    <tr style=\"text-align: right;\">\n",
       "      <th></th>\n",
       "      <th>type</th>\n",
       "      <th>size</th>\n",
       "    </tr>\n",
       "  </thead>\n",
       "  <tbody>\n",
       "    <tr>\n",
       "      <th>0</th>\n",
       "      <td>Movie</td>\n",
       "      <td>6131</td>\n",
       "    </tr>\n",
       "    <tr>\n",
       "      <th>1</th>\n",
       "      <td>TV Show</td>\n",
       "      <td>2676</td>\n",
       "    </tr>\n",
       "  </tbody>\n",
       "</table>\n",
       "</div>"
      ],
      "text/plain": [
       "      type  size\n",
       "0    Movie  6131\n",
       "1  TV Show  2676"
      ]
     },
     "execution_count": 79,
     "metadata": {},
     "output_type": "execute_result"
    }
   ],
   "source": [
    "genres = df.groupby([\"type\"], as_index = False).size()\n",
    "genres"
   ]
  }
 ],
 "metadata": {
  "kernelspec": {
   "display_name": "Python 3",
   "language": "python",
   "name": "python3"
  },
  "language_info": {
   "codemirror_mode": {
    "name": "ipython",
    "version": 3
   },
   "file_extension": ".py",
   "mimetype": "text/x-python",
   "name": "python",
   "nbconvert_exporter": "python",
   "pygments_lexer": "ipython3",
   "version": "3.10.9"
  },
  "orig_nbformat": 4,
  "vscode": {
   "interpreter": {
    "hash": "3b7e9cb8e453d6cda0fe8c8dd13f891a1f09162f0e7c66ffeae7751a7aecf00d"
   }
  }
 },
 "nbformat": 4,
 "nbformat_minor": 2
}
