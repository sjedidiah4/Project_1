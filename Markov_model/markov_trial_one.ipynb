{
 "cells": [
  {
   "attachments": {},
   "cell_type": "markdown",
   "metadata": {},
   "source": [
    "The example that we are working with here is the idea that a restaurant serves three types of meals, but only one in a day.\n",
    "If they serve one, they might either serve it again tomorrow, or any of the other two meals.\n",
    "This scenario fits the Markov model in that what is served tomorrow is purely dependent on what was served today and not anything before. \n",
    "\n",
    "If we want to know, therefore, the probability table for tomorrow, we can use this to compute. We can also use this model to compute what they would serve in 15 days time (what they are most likely to serve)\n",
    "\n",
    "If we extend the number of steps into infinity, we are able to obtain what the restaurant usually serves\n",
    "\n",
    "All of this is implemented using the numpy class. To consider including deeper understanding of the subject through notes later"
   ]
  },
  {
   "attachments": {},
   "cell_type": "markdown",
   "metadata": {},
   "source": [
    "Library importation"
   ]
  },
  {
   "cell_type": "code",
   "execution_count": 1,
   "metadata": {},
   "outputs": [],
   "source": [
    "import numpy as np"
   ]
  },
  {
   "attachments": {},
   "cell_type": "markdown",
   "metadata": {},
   "source": [
    "The next is now assigning the states with proper encoding. For example:\n",
    "State 0 is burger\n",
    "State 1 is Pizza\n",
    "State 2 is Hotdog\n",
    "\n",
    "We do this by the use of a dictionary"
   ]
  },
  {
   "cell_type": "code",
   "execution_count": 2,
   "metadata": {},
   "outputs": [],
   "source": [
    "state = {\n",
    "    0 : \"burger\",\n",
    "    1 : \"pizza\",\n",
    "    2 : \"hotdog\"\n",
    "}"
   ]
  },
  {
   "attachments": {},
   "cell_type": "markdown",
   "metadata": {},
   "source": [
    "To see the contents of the dictionary, just call it directly"
   ]
  },
  {
   "cell_type": "code",
   "execution_count": 3,
   "metadata": {},
   "outputs": [
    {
     "data": {
      "text/plain": [
       "{0: 'burger', 1: 'pizza', 2: 'hotdog'}"
      ]
     },
     "execution_count": 3,
     "metadata": {},
     "output_type": "execute_result"
    }
   ],
   "source": [
    "state"
   ]
  },
  {
   "attachments": {},
   "cell_type": "markdown",
   "metadata": {},
   "source": [
    "To access using the index"
   ]
  },
  {
   "cell_type": "code",
   "execution_count": 6,
   "metadata": {},
   "outputs": [
    {
     "data": {
      "text/plain": [
       "'burger'"
      ]
     },
     "execution_count": 6,
     "metadata": {},
     "output_type": "execute_result"
    }
   ],
   "source": [
    "state[0]\n",
    "#When run, ir returns 'burger' as the string that is attached to that specific index"
   ]
  },
  {
   "attachments": {},
   "cell_type": "markdown",
   "metadata": {},
   "source": [
    "To access using the name? We can revisit this later."
   ]
  },
  {
   "attachments": {},
   "cell_type": "markdown",
   "metadata": {},
   "source": [
    "The next thing we want to do is the transition matrix for the model. The matrix is set such that the value in row j column k indicates the probabily of moving from the state in row k to the state in column j. We are reading from the left to the right.\n",
    "We now implement the transition matrix"
   ]
  },
  {
   "cell_type": "code",
   "execution_count": 127,
   "metadata": {},
   "outputs": [
    {
     "data": {
      "text/plain": [
       "array([[0.2, 0.6, 0.2],\n",
       "       [0.3, 0. , 0.7],\n",
       "       [0.5, 0. , 0.5]])"
      ]
     },
     "execution_count": 127,
     "metadata": {},
     "output_type": "execute_result"
    }
   ],
   "source": [
    "state_probability_matrix = np.array([[0.2, 0.6,0.2],[0.3,0,0.7],[0.5,0,0.5]])\n",
    "#With that, we have created an array datatype which is a three by three matrix\n",
    "#array([[0.2, 0.6, 0.2],\n",
    "       #[0.3, 0. , 0.7],\n",
    "       #[0.5, 0. , 0.5]])\n",
    "#The 0.6, for example, is the probability of moving from row 1 (counting from 0) to colum 0 i.e from state 0 to 1 is from burger to pizza\n",
    "state_probability_matrix"
   ]
  },
  {
   "attachments": {},
   "cell_type": "markdown",
   "metadata": {},
   "source": [
    "First to confirm that none of the values in the transition matrix are more than 1"
   ]
  },
  {
   "cell_type": "code",
   "execution_count": 10,
   "metadata": {},
   "outputs": [],
   "source": [
    "if sum(A[0]) + sum(A[1]) + sum(A[2]) !=3:\n",
    "    print(\"Error, check the transition matrix\")"
   ]
  },
  {
   "attachments": {},
   "cell_type": "markdown",
   "metadata": {},
   "source": [
    "And now to implement the markov model itself. This is done in the form of a function"
   ]
  },
  {
   "cell_type": "code",
   "execution_count": 107,
   "metadata": {},
   "outputs": [],
   "source": [
    "def forecast(days):\n",
    "    #First of all, we select what state we want to begin in\n",
    "    start = 1 #Note that since we gave the name, the dictionary is able to pick this index automatically\n",
    "    previous_state = start\n",
    "    #print(\"The given start state is\", state[start])\n",
    "    while (days):\n",
    "        current_state = np.random.choice([2,0,1],p = A[previous_state])\n",
    "        #print(state[current_state], \"-->\", end = \"\")\n",
    "        \n",
    "        #print( state[current_state]) #This will print the entire chain of sequence of events\n",
    "        print(\"The original start state is\", state[start])\n",
    "        print(\"The probability of moving out of this state is:\", A[start])\n",
    "        print(\"After the first iteration, the new start state is\", state[current_state])\n",
    "        print(\"current state:\", A[current_state])\n",
    "        # print(\"previous state:\", A[previous_state])\n",
    "        days-=1\n",
    "    #print(\"stop\")\n",
    "    \n",
    "#The only thing to understand over here is the random.choice method in numpy library.\n",
    "#Its documentation is such that this is how we use it: we assign numpy.random.choice to a variable and can pass four arguments. the first is the array from which we want to pick a random number. After the array, we can also specify the size of the array. Then we can also set replace to True or False. True replace means that if the random number selected was index 4, it is not taken off the array. It is printed yes, but a copy of it is left in the array hence the array is left intact.\n",
    "#The last argument is the probability related to each entry of the array"
   ]
  },
  {
   "cell_type": "code",
   "execution_count": 108,
   "metadata": {},
   "outputs": [
    {
     "name": "stdout",
     "output_type": "stream",
     "text": [
      "The original start state is pizza\n",
      "The probability of moving out of this state is: [0.3 0.  0.7]\n",
      "After the first iteration, the new start state is hotdog\n",
      "current state: [0.5 0.  0.5]\n",
      "The original start state is pizza\n",
      "The probability of moving out of this state is: [0.3 0.  0.7]\n",
      "After the first iteration, the new start state is pizza\n",
      "current state: [0.3 0.  0.7]\n",
      "The original start state is pizza\n",
      "The probability of moving out of this state is: [0.3 0.  0.7]\n",
      "After the first iteration, the new start state is hotdog\n",
      "current state: [0.5 0.  0.5]\n",
      "The original start state is pizza\n",
      "The probability of moving out of this state is: [0.3 0.  0.7]\n",
      "After the first iteration, the new start state is pizza\n",
      "current state: [0.3 0.  0.7]\n",
      "The original start state is pizza\n",
      "The probability of moving out of this state is: [0.3 0.  0.7]\n",
      "After the first iteration, the new start state is pizza\n",
      "current state: [0.3 0.  0.7]\n"
     ]
    }
   ],
   "source": [
    "forecast(5)\n",
    "#This is saying, if today we start with pizza, what are the probabilities for tomorrow? We expect for this to match the one on the table i.e\n",
    "#array([[0.2, 0.6, 0.2],\n",
    "       #[0.3, 0. , 0.7],\n",
    "       #[0.5, 0. , 0.5]])\n",
    "#pizza (1) to burger (0) should be 0.3, pizza (1) to pizza(1) 0 and pizza to hotdog is 0.7 - basically, just count row then column as you sweep through the direction.\n",
    "#When run:\n",
    "#  \n",
    "#First time:\n",
    "# The original start state is burger\n",
    "# After the first iteration, the new start state is burger\n",
    "# current state: [0.2 0.6 0.2]\n",
    "# previous state: [0.2 0.6 0.2]\n",
    "\n",
    "#Second time:\n",
    "# The original start state is burger\n",
    "# After the first iteration, the new start state is pizza\n",
    "# current state: [0.3 0.  0.7]\n",
    "# previous state: [0.2 0.6 0.2]\n",
    "\n",
    "#Third time\n",
    "# The original start state is burger\n",
    "# After the first iteration, the new start state is burger\n",
    "# current state: [0.2 0.6 0.2]\n",
    "# previous state: [0.2 0.6 0.2]\n",
    "\n",
    "#Fourth time\n",
    "# The original start state is burger\n",
    "# After the first iteration, the new start state is hotdog\n",
    "# current state: [0.5 0.  0.5]\n",
    "# previous state: [0.2 0.6 0.2]\n",
    "\n",
    "#Fifth time\n",
    "# The original start state is burger\n",
    "# After the first iteration, the new start state is pizza\n",
    "# current state: [0.3 0.  0.7]\n",
    "# previous state: [0.2 0.6 0.2]\n",
    "\n",
    "#This is basically us assuming that once we move to tomorrow, we are not thinking about today at all. Tomorrow is the new today.\n",
    "\n",
    "#Note that one would think that the region with the highest probability is the one that will always be picked but this is not the case. The probability simply indicates that another region/route/food option can be chosen just not with as much frequency.\n",
    "\n",
    "#The probability table, therefore, informs the algorithm with what probability to pick a certain specific food option. If a certain path, for example, has a probability of 0.2, it means that for every 10 choices for that root, there will be two set aside for that option within that specific path\n",
    "#This is the incredible power of the random generator.\n",
    "# \n",
    "#\n",
    "# \n",
    "# \n",
    "# \n",
    "# \n",
    "# Point to be taken out of this is that you can either perform the prediction on a day to day basis or you could predict all the days at once.\n",
    "# This algorithm is not very useful in the short term since with short term, there is some randomness. In the long run, however, we can predict which meals we are going to be making most of the times. \n",
    "\n"
   ]
  },
  {
   "attachments": {},
   "cell_type": "markdown",
   "metadata": {},
   "source": [
    "Long term prediction - stationary probability.\n",
    "Note that this accuracy reduces as we reduce on the amount of time for our prediction"
   ]
  },
  {
   "cell_type": "code",
   "execution_count": 148,
   "metadata": {},
   "outputs": [],
   "source": [
    "def forecast(days):\n",
    "    number_of_days = days\n",
    "    start = 1 #this is the state from which we want to proceed\n",
    "    i = 0\n",
    "    state_where_we_are_now = start #This will keep on updating every time we make a move\n",
    "    recorded_states = np.array([0,0,0])#all of them set to zero before\n",
    "    while (days):\n",
    "        state_where_we_go_to_next = np.random.choice([0,1,2],p = state_probability_matrix[state_where_we_are_now])\n",
    "        state_where_we_are_now = state_where_we_go_to_next\n",
    "        days-=1\n",
    "    print(\"The state we began in is:\", state[start], \"but after\", number_of_days, \"iterations, the final state that we are in now is:\", state[state_where_we_go_to_next])\n",
    "    print(days) # This returns 0 because the 2 that we entered, if we were to print directly, is not being used as a number input but counter input. It is the one that informs the program to run through the loop twice. To see the actual number of days, we need to save it first as a constant variable then print it out\n",
    "    print(number_of_days) # Now this returns the two that we expected\n",
    "\n",
    "    # while i< d:\n",
    "    #     recorded_states[]\n",
    "\n"
   ]
  },
  {
   "cell_type": "code",
   "execution_count": 149,
   "metadata": {},
   "outputs": [
    {
     "name": "stdout",
     "output_type": "stream",
     "text": [
      "The state we began in is: pizza but after 2 iterations, the final state that we are in now is: burger\n",
      "0\n",
      "2\n"
     ]
    }
   ],
   "source": [
    "forecast(2)"
   ]
  },
  {
   "attachments": {},
   "cell_type": "markdown",
   "metadata": {},
   "source": [
    "After this is now when we are moving to the long term prediction"
   ]
  },
  {
   "cell_type": "code",
   "execution_count": 193,
   "metadata": {},
   "outputs": [],
   "source": [
    "def forecast(days):\n",
    "    number_of_days = days\n",
    "    start = 0 #this is the state from which we want to proceed\n",
    "    state_where_we_are_now = start #This will keep on updating every time we make a move\n",
    "    recorded_states = np.array([0,0,0])#all of them set to zero before\n",
    "    recorded_states[start] = 1 #This is to instruct the application that even before we begin, we already have 1 observation of the beginning state (at the time of writing, start = 0 which means that we are initalising this array to indicate that burger - state 0 - has already been seen once)\n",
    "\n",
    "    # #This is an extra step to extract the index from the dictionary\n",
    "    # keys = state.keys()\n",
    "    # values = state.values() # These are methods to access items in the dictionary\n",
    "\n",
    "    print (\"Initial recorded state is:\" , state[start], \"after which the order of the states in the specified number of iterations is:\")\n",
    "    i = 0\n",
    "    while (days):\n",
    "        state_where_we_go_to_next = np.random.choice([0,1,2],p = state_probability_matrix[state_where_we_are_now])\n",
    "        state_where_we_are_now = state_where_we_go_to_next\n",
    "        recorded_states[state_where_we_go_to_next] +=1 #What this does not do is create an array of every state once it has been chosen. It simply counts. For example, if we find out that out next state is state 1, it will go to its memory and check, at what number did we stop with state 1? Then increment it by 1. To compute average, divide each element with the days\n",
    "        days-=1\n",
    "        print(state[state_where_we_go_to_next])\n",
    "    \n",
    "    print(\"A tally of the recorded states reveals that states 0 (burger), 1(pizza) and 2(hotdog) are observed in a totality as respectively:\", recorded_states)\n",
    "    print(\"When averaged out, this returns\", recorded_states/number_of_days)\n",
    "\n",
    "\n"
   ]
  },
  {
   "cell_type": "code",
   "execution_count": 196,
   "metadata": {},
   "outputs": [
    {
     "name": "stdout",
     "output_type": "stream",
     "text": [
      "Initial recorded state is: burger after which the order of the states in the specified number of iterations is:\n",
      "burger\n",
      "pizza\n",
      "A tally of the recorded states reveals that states 0 (burger), 1(pizza) and 2(hotdog) are observed in a totality as respectively: [2 1 0]\n",
      "When averaged out, this returns [1.  0.5 0. ]\n"
     ]
    }
   ],
   "source": [
    "forecast(2)"
   ]
  },
  {
   "attachments": {},
   "cell_type": "markdown",
   "metadata": {},
   "source": [
    "For longer iterations to find the steady state behaviour"
   ]
  },
  {
   "cell_type": "code",
   "execution_count": 199,
   "metadata": {},
   "outputs": [],
   "source": [
    "def forecast(days):\n",
    "    number_of_days = days\n",
    "    start = 0 #this is the state from which we want to proceed\n",
    "    state_where_we_are_now = start #This will keep on updating every time we make a move\n",
    "    recorded_states = np.array([0,0,0])#all of them set to zero before\n",
    "    recorded_states[start] = 1 #This is to instruct the application that even before we begin, we already have 1 observation of the beginning state (at the time of writing, start = 0 which means that we are initalising this array to indicate that burger - state 0 - has already been seen once)\n",
    "\n",
    "    while (days):\n",
    "        state_where_we_go_to_next = np.random.choice([0,1,2],p = state_probability_matrix[state_where_we_are_now])\n",
    "        state_where_we_are_now = state_where_we_go_to_next\n",
    "        recorded_states[state_where_we_go_to_next] +=1 #What this does not do is create an array of every state once it has been chosen. It simply counts. For example, if we find out that out next state is state 1, it will go to its memory and check, at what number did we stop with state 1? Then increment it by 1. To compute average, divide each element with the days\n",
    "        days-=1\n",
    "        #print(state[state_where_we_go_to_next])\n",
    "    \n",
    "    print(\"A tally of the recorded states reveals that states 0 (burger), 1(pizza) and 2(hotdog) are observed in a totality as respectively:\", recorded_states)\n",
    "    print(\"When averaged out, this returns\", recorded_states/number_of_days)"
   ]
  },
  {
   "cell_type": "code",
   "execution_count": 200,
   "metadata": {},
   "outputs": [
    {
     "name": "stdout",
     "output_type": "stream",
     "text": [
      "A tally of the recorded states reveals that states 0 (burger), 1(pizza) and 2(hotdog) are observed in a totality as respectively: [3484 2110 4407]\n",
      "When averaged out, this returns [0.3484 0.211  0.4407]\n"
     ]
    }
   ],
   "source": [
    "forecast(10000)"
   ]
  },
  {
   "attachments": {},
   "cell_type": "markdown",
   "metadata": {},
   "source": [
    "In this section, we are mostly dealing with dictionaries or dataframes. Worth practising a bit more to understand the nitty grities of the data storage approach"
   ]
  }
 ],
 "metadata": {
  "kernelspec": {
   "display_name": "Python 3",
   "language": "python",
   "name": "python3"
  },
  "language_info": {
   "codemirror_mode": {
    "name": "ipython",
    "version": 3
   },
   "file_extension": ".py",
   "mimetype": "text/x-python",
   "name": "python",
   "nbconvert_exporter": "python",
   "pygments_lexer": "ipython3",
   "version": "3.10.9"
  },
  "orig_nbformat": 4,
  "vscode": {
   "interpreter": {
    "hash": "9b383195b675b67791e82ad62cbf7cbb4047b0afc7d769a8e8e1166673f5e5eb"
   }
  }
 },
 "nbformat": 4,
 "nbformat_minor": 2
}
